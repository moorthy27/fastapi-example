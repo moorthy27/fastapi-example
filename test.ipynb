{
 "cells": [
  {
   "cell_type": "code",
   "execution_count": null,
   "metadata": {},
   "outputs": [],
   "source": [
    "{\n",
    "    \"editor.fontFamily\": \"'Fira Code','Monaspace Argon Medium','JetBrains Mono NL Medium',monospace,Consolas, 'Courier New'\",\n",
    "    \"ruff.lint.run\": \"onSave\",\n",
    "    \"ruff.organizeImports\": False,\n",
    "    \"ruff.nativeServer\": \"on\",\n",
    "    \"notebook.formatOnSave.enabled\": True,\n",
    "    \"notebook.codeActionsOnSave\": {\n",
    "        \"notebook.source.fixAll\": \"explicit\",\n",
    "        \"notebook.source.organizeImports\": \"never\",\n",
    "    },\n",
    "    \"[python]\": {\n",
    "        \"editor.formatOnSave\": True,\n",
    "        \"editor.codeActionsOnSave\": {\n",
    "            \"source.fixAll\": \"explicit\",\n",
    "            \"source.organizeImports\": \"never\",\n",
    "        },\n",
    "        \"editor.defaultFormatter\": \"charliermarsh.ruff\",\n",
    "    },\n",
    "    \"editor.fontWeight\": \"normal\",\n",
    "    \"editor.fontVariations\": True,\n",
    "    \"editor.fontSize\": 13,\n",
    "    \"editor.fontLigatures\": True,\n",
    "}"
   ]
  }
 ],
 "metadata": {
  "language_info": {
   "name": "python"
  }
 },
 "nbformat": 4,
 "nbformat_minor": 2
}
